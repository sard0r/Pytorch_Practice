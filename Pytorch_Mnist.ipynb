{
 "cells": [
  {
   "cell_type": "markdown",
   "id": "0f12cbbb",
   "metadata": {},
   "source": [
    "Imports"
   ]
  },
  {
   "cell_type": "code",
   "execution_count": 49,
   "id": "2f2880ac",
   "metadata": {},
   "outputs": [],
   "source": [
    "import torch \n",
    "import torch.nn as nn\n",
    "import torch.optim as optim\n",
    "import torchvision.transforms as transforms\n",
    "import torch.nn.functional as F\n",
    "import torchvision.datasets as datasets\n",
    "import torchvision \n",
    "from torch.utils.data import DataLoader\n",
    "from tqdm import tqdm"
   ]
  },
  {
   "cell_type": "markdown",
   "id": "c368ff87",
   "metadata": {},
   "source": [
    "Create fully Connected Network"
   ]
  },
  {
   "cell_type": "code",
   "execution_count": 86,
   "id": "c1e248b7",
   "metadata": {},
   "outputs": [],
   "source": [
    "class NN(nn.Module):\n",
    "    def __init__(self, input_size, num_classes):\n",
    "        super(NN, self).__init__()\n",
    "        self.fc1 = nn.Linear(input_size, 200)\n",
    "        self.fc2 = nn.Linear(200, 50)\n",
    "        self.fc3 = nn.Linear(50, num_classes)\n",
    "        self.dropout = nn.Dropout(0.25)\n",
    "        \n",
    "    def forward(self, x):\n",
    "        x=F.relu(self.fc1(x))\n",
    "        x = self.dropout(x)\n",
    "        x=F.relu(self.fc2(x))\n",
    "        x = self.dropout(x)\n",
    "        x = self.fc3(x)\n",
    "        return x"
   ]
  },
  {
   "cell_type": "markdown",
   "id": "b69f4e1f",
   "metadata": {},
   "source": [
    "Set device"
   ]
  },
  {
   "cell_type": "code",
   "execution_count": 87,
   "id": "f9ebb859",
   "metadata": {},
   "outputs": [],
   "source": [
    "device = torch.device(\"cuda\" if torch.cuda.is_available() else \"cpu\")"
   ]
  },
  {
   "cell_type": "markdown",
   "id": "8fb8f102",
   "metadata": {},
   "source": [
    "Hyperparameters"
   ]
  },
  {
   "cell_type": "code",
   "execution_count": 88,
   "id": "535fa78f",
   "metadata": {},
   "outputs": [],
   "source": [
    "input_size=784\n",
    "num_classes=10\n",
    "lr=0.001\n",
    "batch_size=64\n",
    "num_epochs=10"
   ]
  },
  {
   "cell_type": "markdown",
   "id": "04fd90e9",
   "metadata": {},
   "source": [
    "Load Data"
   ]
  },
  {
   "cell_type": "code",
   "execution_count": 89,
   "id": "2546df3c",
   "metadata": {},
   "outputs": [],
   "source": [
    "train_dataset= datasets.MNIST(root='../datasets/', \n",
    "                             train= True,\n",
    "                             download=True,\n",
    "                             transform=transforms.ToTensor())\n",
    "test_dataset= datasets.MNIST(root='../datasets/', \n",
    "                             train= False,\n",
    "                             download=True,\n",
    "                             transform=transforms.ToTensor())\n",
    "\n",
    "train_loader = DataLoader(dataset=train_dataset, batch_size = batch_size, shuffle=True)\n",
    "test_loader  = DataLoader(dataset=test_dataset, batch_size = batch_size, shuffle= True)\n"
   ]
  },
  {
   "cell_type": "markdown",
   "id": "5eeb05a5",
   "metadata": {},
   "source": [
    "Initialize the network"
   ]
  },
  {
   "cell_type": "code",
   "execution_count": 90,
   "id": "29d9ee27",
   "metadata": {},
   "outputs": [],
   "source": [
    "model = NN(input_size=input_size, num_classes=num_classes).to(device)"
   ]
  },
  {
   "cell_type": "markdown",
   "id": "3f9da4ee",
   "metadata": {},
   "source": [
    "Loss and optimizer"
   ]
  },
  {
   "cell_type": "code",
   "execution_count": 91,
   "id": "24a59712",
   "metadata": {},
   "outputs": [],
   "source": [
    "criterion = nn.CrossEntropyLoss()\n",
    "optimizer = optim.Adam(model.parameters(), lr=lr)"
   ]
  },
  {
   "cell_type": "markdown",
   "id": "5503f4fd",
   "metadata": {},
   "source": [
    "Train Network\n"
   ]
  },
  {
   "cell_type": "code",
   "execution_count": 92,
   "id": "d3e9ddd6",
   "metadata": {},
   "outputs": [
    {
     "name": "stderr",
     "output_type": "stream",
     "text": [
      "100%|███████████████████████████████████████████████████████████████████████████████| 938/938 [00:05<00:00, 160.95it/s]\n",
      "100%|███████████████████████████████████████████████████████████████████████████████| 938/938 [00:05<00:00, 162.19it/s]\n",
      "100%|███████████████████████████████████████████████████████████████████████████████| 938/938 [00:05<00:00, 163.59it/s]\n",
      "100%|███████████████████████████████████████████████████████████████████████████████| 938/938 [00:05<00:00, 163.71it/s]\n",
      "100%|███████████████████████████████████████████████████████████████████████████████| 938/938 [00:05<00:00, 162.83it/s]\n",
      "100%|███████████████████████████████████████████████████████████████████████████████| 938/938 [00:05<00:00, 160.39it/s]\n",
      "100%|███████████████████████████████████████████████████████████████████████████████| 938/938 [00:05<00:00, 165.63it/s]\n",
      "100%|███████████████████████████████████████████████████████████████████████████████| 938/938 [00:05<00:00, 165.57it/s]\n",
      "100%|███████████████████████████████████████████████████████████████████████████████| 938/938 [00:05<00:00, 163.63it/s]\n",
      "100%|███████████████████████████████████████████████████████████████████████████████| 938/938 [00:05<00:00, 160.44it/s]\n"
     ]
    }
   ],
   "source": [
    "for epoch in range(num_epochs):\n",
    "    for batch_idx, (data, targets) in enumerate(tqdm(train_loader)):\n",
    "        data = data.to(device=device)\n",
    "        targets = targets.to(device=device)\n",
    "        data = data.reshape(data.shape[0], -1) #flatten \n",
    "        \n",
    "        #forward\n",
    "        scores = model(data)\n",
    "        loss = criterion(scores, targets)\n",
    "        \n",
    "        #backward\n",
    "        optimizer.zero_grad()\n",
    "        loss.backward()\n",
    "        \n",
    "        # gradient descent or adam step\n",
    "        optimizer.step()\n",
    "        "
   ]
  },
  {
   "cell_type": "markdown",
   "id": "beea1456",
   "metadata": {},
   "source": [
    "Check aacuracy on training & test to see how good our model"
   ]
  },
  {
   "cell_type": "code",
   "execution_count": 94,
   "id": "77673903",
   "metadata": {},
   "outputs": [
    {
     "name": "stderr",
     "output_type": "stream",
     "text": [
      "100%|███████████████████████████████████████████████████████████████████████████████| 938/938 [00:04<00:00, 202.16it/s]\n"
     ]
    },
    {
     "name": "stdout",
     "output_type": "stream",
     "text": [
      "Accuracy on training set: 99.34\n"
     ]
    },
    {
     "name": "stderr",
     "output_type": "stream",
     "text": [
      "100%|███████████████████████████████████████████████████████████████████████████████| 157/157 [00:00<00:00, 199.65it/s]"
     ]
    },
    {
     "name": "stdout",
     "output_type": "stream",
     "text": [
      "Accuracy on test set: 98.08\n"
     ]
    },
    {
     "name": "stderr",
     "output_type": "stream",
     "text": [
      "\n"
     ]
    }
   ],
   "source": [
    "def check_accuracy(loader, model):\n",
    "    num_correct = 0\n",
    "    num_samples = 0\n",
    "    \n",
    "    model.eval()\n",
    "\n",
    "    with torch.no_grad():\n",
    "        for x, y in tqdm(loader):\n",
    "            x = x.to(device=device)\n",
    "            y = y.to(device=device)\n",
    "            x = x.reshape(x.shape[0], -1)\n",
    "\n",
    "            scores = model(x)\n",
    "            _, predictions = scores.max(1)\n",
    "            num_correct += (predictions == y).sum()\n",
    "            num_samples += predictions.size(0)\n",
    "\n",
    "    model.train()\n",
    "    return num_correct/num_samples\n",
    "\n",
    "\n",
    "print(f\"Accuracy on training set: {check_accuracy(train_loader, model)*100:.2f}\")\n",
    "print(f\"Accuracy on test set: {check_accuracy(test_loader, model)*100:.2f}\")"
   ]
  },
  {
   "cell_type": "code",
   "execution_count": null,
   "id": "fcf214d0",
   "metadata": {},
   "outputs": [],
   "source": []
  }
 ],
 "metadata": {
  "kernelspec": {
   "display_name": "Python 3 (ipykernel)",
   "language": "python",
   "name": "python3"
  },
  "language_info": {
   "codemirror_mode": {
    "name": "ipython",
    "version": 3
   },
   "file_extension": ".py",
   "mimetype": "text/x-python",
   "name": "python",
   "nbconvert_exporter": "python",
   "pygments_lexer": "ipython3",
   "version": "3.9.7"
  }
 },
 "nbformat": 4,
 "nbformat_minor": 5
}
